{
 "cells": [
  {
   "cell_type": "code",
   "execution_count": 1,
   "metadata": {},
   "outputs": [],
   "source": [
    "import os, datetime\n",
    "import apache_beam as beam\n",
    "from apache_beam import pvalue\n",
    "from apache_beam.options.pipeline_options import PipelineOptions\n",
    "from apache_beam.options.pipeline_options import SetupOptions\n",
    "from apache_beam.io import ReadFromText\n",
    "from apache_beam.io import WriteToText"
   ]
  },
  {
   "cell_type": "code",
   "execution_count": 2,
   "metadata": {},
   "outputs": [],
   "source": [
    "class NameFormatFn(beam.DoFn):\n",
    "    def process(self, element):\n",
    "        record = element\n",
    "        name = record.get('Name')\n",
    "        name = name.upper()\n",
    "        name = name.replace(\"\\\"\",\"\")\n",
    "        name = name.replace(\"\\\\\",\"\")\n",
    "        name = name.split()\n",
    "        \n",
    "        if len(name) == 1:\n",
    "            record['Name'] = name[0]\n",
    "        else:\n",
    "            if name[0].find(',') == len(name[0]) - 1:\n",
    "                record['Name'] = name[0] + ' ' + name[1]\n",
    "            else:\n",
    "                record['Name'] = name[0] + ', ' + name[1]\n",
    "                \n",
    "        if record['Name'][-1] == ',':\n",
    "            record['Name'] = record['Name'][:-1]\n",
    "                \n",
    "        return [record]"
   ]
  },
  {
   "cell_type": "code",
   "execution_count": 3,
   "metadata": {},
   "outputs": [],
   "source": [
    "PROJECT_ID = 'sound-cider-252823'\n",
    "\n",
    "# Project ID is needed for BigQuery data source, even for local execution.\n",
    "options = {\n",
    "    'project': PROJECT_ID\n",
    "}\n",
    "opts = beam.pipeline.PipelineOptions(flags=[], **options)"
   ]
  },
  {
   "cell_type": "code",
   "execution_count": 4,
   "metadata": {},
   "outputs": [
    {
     "name": "stderr",
     "output_type": "stream",
     "text": [
      "/home/jupyter/beam_venv_dir/local/lib/python2.7/site-packages/apache_beam/runners/direct/direct_runner.py:342: DeprecationWarning: options is deprecated since First stable release.. References to <pipeline>.options will not be supported\n",
      "  pipeline.replace_all(_get_transform_overrides(pipeline.options))\n",
      "WARNING:root:Dataset sound-cider-252823:temp_dataset_10d69b9d37cf4de4aeecce68f70e6f4c does not exist so we will create it as temporary with location=None\n",
      "WARNING:root:Sleeping for 150 seconds before the write as BigQuery inserts can be routed to deleted table for 2 mins after the delete and create.\n"
     ]
    }
   ],
   "source": [
    "with beam.Pipeline('DirectRunner', options = opts) as p:\n",
    "    \n",
    "    #Because of the time limits, we only extract the first 100 rows of data.\n",
    "    query_results = p | 'Read from BigQuery for txt' >> beam.io.Read(beam.io.BigQuerySource(query = 'SELECT * FROM fec_modeled.Candidates_Beam_DF limit 100'))\n",
    "\n",
    "    #write PCollection to log file\n",
    "    query_results | 'Write to input.txt' >> WriteToText('input.txt')\n",
    "\n",
    "    new_pcoll = query_results | 'Perform name standardization' >> beam.ParDo(NameFormatFn())\n",
    "\n",
    "    new_pcoll | 'Write to output.txt' >> WriteToText('output.txt')\n",
    "\n",
    "    qualified_table_name = PROJECT_ID + ':fec_modeled.Candidates_Beam_Jupyter'\n",
    "    \n",
    "    table_schema = 'ID:STRING, Name:STRING, Party:STRING, Election_Year:INTEGER, Office_State:STRING, District:INTEGER, Challenge_Status:STRING, Street1:STRING, Street2:STRING, City:STRING, State:STRING, ZIP:INTEGER, Label:STRING, Year:INTEGER'\n",
    "    \n",
    "    # write the output results as a table in BigQuery\n",
    "    new_pcoll | 'Write to BigQuery' >> beam.io.Write(beam.io.BigQuerySink(qualified_table_name,\n",
    "                                                    schema=table_schema,  \n",
    "                                                    create_disposition=beam.io.BigQueryDisposition.CREATE_IF_NEEDED,\n",
    "                                                    write_disposition=beam.io.BigQueryDisposition.WRITE_TRUNCATE))\n"
   ]
  }
 ],
 "metadata": {
  "kernelspec": {
   "display_name": "Python (beam_venv)",
   "language": "python",
   "name": "beam_venv_kernel"
  },
  "language_info": {
   "codemirror_mode": {
    "name": "ipython",
    "version": 2
   },
   "file_extension": ".py",
   "mimetype": "text/x-python",
   "name": "python",
   "nbconvert_exporter": "python",
   "pygments_lexer": "ipython2",
   "version": "2.7.13"
  }
 },
 "nbformat": 4,
 "nbformat_minor": 4
}
