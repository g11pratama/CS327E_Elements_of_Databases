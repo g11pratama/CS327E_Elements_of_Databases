{
 "cells": [
  {
   "cell_type": "code",
   "execution_count": 1,
   "metadata": {},
   "outputs": [],
   "source": [
    "import os, datetime\n",
    "import apache_beam as beam\n",
    "from apache_beam.io import ReadFromText\n",
    "from apache_beam.io import WriteToText"
   ]
  },
  {
   "cell_type": "code",
   "execution_count": 2,
   "metadata": {},
   "outputs": [],
   "source": [
    "class NameFormatFn(beam.DoFn):\n",
    "    def process(self, element):\n",
    "        record = element\n",
    "        name = record.get('Name')\n",
    "        name = name.upper()\n",
    "        name = name.replace(\"\\\"\",\"\")\n",
    "        name = name.replace(\"\\\\\",\"\")\n",
    "        name = name.split()\n",
    "        \n",
    "        if len(name) == 1:\n",
    "            record['Name'] = name[0]\n",
    "        else:\n",
    "            if name[0].find(',') == len(name[0]) - 1:\n",
    "                record['Name'] = name[0] + ' ' + name[1]\n",
    "            else:\n",
    "                record['Name'] = name[0] + ', ' + name[1]\n",
    "                \n",
    "        if record['Name'][-1] == ',':\n",
    "            record['Name'] = record['Name'][:-1]\n",
    "                \n",
    "        return [record]"
   ]
  },
  {
   "cell_type": "code",
   "execution_count": 3,
   "metadata": {},
   "outputs": [],
   "source": [
    "PROJECT_ID = 'sound-cider-252823'\n",
    "BUCKET = 'gs://gerryandhao'\n",
    "DIR_PATH = BUCKET + '/output/' + datetime.datetime.now().strftime('%Y_%m_%d_%H_%M_%S') + '/'\n",
    "\n",
    "options = {\n",
    "    'runner': 'DataflowRunner',\n",
    "    'job_name': 'transform-candidates',\n",
    "    'project': PROJECT_ID,\n",
    "    'temp_location': BUCKET + '/temp',\n",
    "    'staging_location': BUCKET + '/staging',\n",
    "    'machine_type': 'n1-standard-4', # machine types listed here: https://cloud.google.com/compute/docs/machine-types\n",
    "    'num_workers': 4\n",
    "}\n",
    "opts = beam.pipeline.PipelineOptions(flags=[], **options)"
   ]
  },
  {
   "cell_type": "code",
   "execution_count": null,
   "metadata": {},
   "outputs": [],
   "source": [
    "with beam.Pipeline('DataflowRunner', options = opts) as p:\n",
    "    \n",
    "    #Because of the time limits, we only extract the first 100 rows of data.\n",
    "    query_results = p | 'Read from BigQuery' >> beam.io.Read(beam.io.BigQuerySource(query = 'SELECT * FROM fec_modeled.Candidates_Beam_DF'))\n",
    "\n",
    "\n",
    "    new_pcoll = query_results | 'Perform name standardization' >> beam.ParDo(NameFormatFn())    \n",
    "       \n",
    "    dataset_id = 'fec_modeled'\n",
    "    table_id ='Candidates_Beam_DF_Jupyter'\n",
    "    schema_id = 'ID:STRING, Name:STRING, Party:STRING, Election_Year:INTEGER, Office_State:STRING, District:INTEGER, Challenge_Status:STRING, Street1:STRING, Street2:STRING, City:STRING, State:STRING, ZIP:INTEGER, Label:STRING, Year:INTEGER'\n",
    "    \n",
    "    # write the output results as a table in BigQuery\n",
    "    new_pcoll | 'Write to BigQuery' >> beam.io.WriteToBigQuery(dataset=dataset_id, \n",
    "                                                    table=table_id, \n",
    "                                                    schema=schema_id,\n",
    "                                                    project=PROJECT_ID,\n",
    "                                                    create_disposition=beam.io.BigQueryDisposition.CREATE_IF_NEEDED,\n",
    "                                                    write_disposition=beam.io.BigQueryDisposition.WRITE_TRUNCATE,\n",
    "                                                    batch_size=int(100))\n",
    "    \n",
    "    result = p.run()\n",
    "    result.wait_until_finish()"
   ]
  }
 ],
 "metadata": {
  "kernelspec": {
   "display_name": "Python (beam_venv)",
   "language": "python",
   "name": "beam_venv_kernel"
  },
  "language_info": {
   "codemirror_mode": {
    "name": "ipython",
    "version": 2
   },
   "file_extension": ".py",
   "mimetype": "text/x-python",
   "name": "python",
   "nbconvert_exporter": "python",
   "pygments_lexer": "ipython2",
   "version": "2.7.13"
  }
 },
 "nbformat": 4,
 "nbformat_minor": 4
}
