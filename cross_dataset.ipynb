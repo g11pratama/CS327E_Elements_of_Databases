{
 "cells": [
  {
   "cell_type": "markdown",
   "metadata": {},
   "source": [
    "# Create BQ Dataset Reporting"
   ]
  },
  {
   "cell_type": "code",
   "execution_count": 2,
   "metadata": {},
   "outputs": [
    {
     "name": "stdout",
     "output_type": "stream",
     "text": [
      "Dataset 'sound-cider-252823:MIT_reporting' successfully created.\n"
     ]
    }
   ],
   "source": [
    "reporting_dataset_id = \"MIT_reporting\"\n",
    "!bq --location=US mk --dataset {reporting_dataset_id}"
   ]
  },
  {
   "cell_type": "markdown",
   "metadata": {},
   "source": [
    "# Create View for Query 1"
   ]
  },
  {
   "cell_type": "markdown",
   "metadata": {},
   "source": [
    "This query returns the names of top 10 candidates who gain the highest amount of votes in Texas."
   ]
  },
  {
   "cell_type": "code",
   "execution_count": 5,
   "metadata": {},
   "outputs": [
    {
     "data": {
      "text/html": [
       "<div>\n",
       "<style scoped>\n",
       "    .dataframe tbody tr th:only-of-type {\n",
       "        vertical-align: middle;\n",
       "    }\n",
       "\n",
       "    .dataframe tbody tr th {\n",
       "        vertical-align: top;\n",
       "    }\n",
       "\n",
       "    .dataframe thead th {\n",
       "        text-align: right;\n",
       "    }\n",
       "</style>\n",
       "<table border=\"1\" class=\"dataframe\">\n",
       "  <thead>\n",
       "    <tr style=\"text-align: right;\">\n",
       "      <th></th>\n",
       "    </tr>\n",
       "  </thead>\n",
       "  <tbody>\n",
       "  </tbody>\n",
       "</table>\n",
       "</div>"
      ],
      "text/plain": [
       "Empty DataFrame\n",
       "Columns: []\n",
       "Index: []"
      ]
     },
     "execution_count": 5,
     "metadata": {},
     "output_type": "execute_result"
    }
   ],
   "source": [
    "%%bigquery\n",
    "Create View MIT_reporting.v_Highest_Votes_Candidates as\n",
    "select distinct c.Name, r.Candidate_Votes, e.Year, e.Type\n",
    "from (`sound-cider-252823.fec_modeled.Candidates_Beam_DF_Jupyter` c \n",
    "inner join `sound-cider-252823.MIT_modeled.Runs_Beam_DF_Jupyter` r\n",
    "on c.Label = r.Candidate_Label)\n",
    "inner join `sound-cider-252823.MIT_modeled.Elections` e \n",
    "on e.Election_ID = r.Election_ID\n",
    "where e.State = \"TX\"\n",
    "order by r.Candidate_Votes DESC\n",
    "limit 10"
   ]
  },
  {
   "cell_type": "markdown",
   "metadata": {},
   "source": [
    "# Create View for Query 2"
   ]
  },
  {
   "cell_type": "markdown",
   "metadata": {},
   "source": [
    "This query returns the names of top 10 candidates who receive the highest amount of money in a single contribution. This query also shows the contribution committee and contribution amount. "
   ]
  },
  {
   "cell_type": "code",
   "execution_count": 7,
   "metadata": {},
   "outputs": [
    {
     "data": {
      "text/html": [
       "<div>\n",
       "<style scoped>\n",
       "    .dataframe tbody tr th:only-of-type {\n",
       "        vertical-align: middle;\n",
       "    }\n",
       "\n",
       "    .dataframe tbody tr th {\n",
       "        vertical-align: top;\n",
       "    }\n",
       "\n",
       "    .dataframe thead th {\n",
       "        text-align: right;\n",
       "    }\n",
       "</style>\n",
       "<table border=\"1\" class=\"dataframe\">\n",
       "  <thead>\n",
       "    <tr style=\"text-align: right;\">\n",
       "      <th></th>\n",
       "    </tr>\n",
       "  </thead>\n",
       "  <tbody>\n",
       "  </tbody>\n",
       "</table>\n",
       "</div>"
      ],
      "text/plain": [
       "Empty DataFrame\n",
       "Columns: []\n",
       "Index: []"
      ]
     },
     "execution_count": 7,
     "metadata": {},
     "output_type": "execute_result"
    }
   ],
   "source": [
    "%%bigquery\n",
    "Create View MIT_reporting.v_Highest_Contribution_Candidates as\n",
    "select distinct c.Name as Candidate_Name, e.Type, con.Amount, e.Year, com.Name as Committee_Name\n",
    "from (((`sound-cider-252823.fec_modeled.Candidates_Beam_DF_Jupyter` c \n",
    "inner join `sound-cider-252823.MIT_modeled.Runs_Beam_DF_Jupyter` r\n",
    "on c.Label = r.Candidate_Label)\n",
    "inner join `sound-cider-252823.fec_modeled.Contributes_Beam_DF` con\n",
    "on con.Candidate_Label = c.Label)\n",
    "inner join `sound-cider-252823.MIT_modeled.Elections` e\n",
    "on e.Election_ID = r.Election_ID)\n",
    "inner join `sound-cider-252823.fec_modeled.Committees_Beam_DF` com\n",
    "on con.Committee_Label = com.Label\n",
    "order by con.Amount DESC\n",
    "limit 10\n",
    "\n"
   ]
  },
  {
   "cell_type": "markdown",
   "metadata": {},
   "source": [
    "# Create View for Query 3"
   ]
  },
  {
   "cell_type": "markdown",
   "metadata": {},
   "source": [
    "This query returns the top 10 states which give the highest amount of contribution in year 2016 and the number of votes in 2016 presidential election in that state. This query aim to find whether there is a relationship between the total political contribution and the total number of votes."
   ]
  },
  {
   "cell_type": "code",
   "execution_count": 12,
   "metadata": {},
   "outputs": [
    {
     "data": {
      "text/html": [
       "<div>\n",
       "<style scoped>\n",
       "    .dataframe tbody tr th:only-of-type {\n",
       "        vertical-align: middle;\n",
       "    }\n",
       "\n",
       "    .dataframe tbody tr th {\n",
       "        vertical-align: top;\n",
       "    }\n",
       "\n",
       "    .dataframe thead th {\n",
       "        text-align: right;\n",
       "    }\n",
       "</style>\n",
       "<table border=\"1\" class=\"dataframe\">\n",
       "  <thead>\n",
       "    <tr style=\"text-align: right;\">\n",
       "      <th></th>\n",
       "    </tr>\n",
       "  </thead>\n",
       "  <tbody>\n",
       "  </tbody>\n",
       "</table>\n",
       "</div>"
      ],
      "text/plain": [
       "Empty DataFrame\n",
       "Columns: []\n",
       "Index: []"
      ]
     },
     "execution_count": 12,
     "metadata": {},
     "output_type": "execute_result"
    }
   ],
   "source": [
    "%%bigquery\n",
    "Create View MIT_reporting.v_States_with_Top_Contribution as\n",
    "select t.State, t.Total_Contribution, e.Total_Votes\n",
    "from\n",
    "(select c.State as State, sum(con.Amount) as Total_Contribution\n",
    "from (`sound-cider-252823.fec_modeled.Contributes_Beam_DF` con\n",
    "inner join `sound-cider-252823.fec_modeled.Committees_Beam_DF` c\n",
    "on c.Label = con.Committee_Label)\n",
    "where c.Year = 2016\n",
    "group by c.State) as t\n",
    "inner join `sound-cider-252823.MIT_modeled.Elections` e\n",
    "on t.State = e.State\n",
    "where e.Type = \"President\" and e.Year = 2016\n",
    "order by Total_Contribution DESC"
   ]
  },
  {
   "cell_type": "code",
   "execution_count": null,
   "metadata": {},
   "outputs": [],
   "source": []
  }
 ],
 "metadata": {
  "kernelspec": {
   "display_name": "Python (beam_venv)",
   "language": "python",
   "name": "beam_venv_kernel"
  },
  "language_info": {
   "codemirror_mode": {
    "name": "ipython",
    "version": 2
   },
   "file_extension": ".py",
   "mimetype": "text/x-python",
   "name": "python",
   "nbconvert_exporter": "python",
   "pygments_lexer": "ipython2",
   "version": "2.7.13"
  }
 },
 "nbformat": 4,
 "nbformat_minor": 4
}
